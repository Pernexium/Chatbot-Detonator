{
 "cells": [
  {
   "cell_type": "code",
   "execution_count": 2,
   "metadata": {},
   "outputs": [
    {
     "name": "stdout",
     "output_type": "stream",
     "text": [
      "478b9025d1d8e8d126ea6a5290ffa18aefce3f8de33863da61527d72172e57bd\n"
     ]
    }
   ],
   "source": [
    "import hashlib\n",
    "\n",
    "def generate_hash(password):\n",
    "    return hashlib.sha256(password.encode()).hexdigest()\n",
    "\n",
    "# Reemplaza 'contraseña_developer' con la contraseña real que deseas usar\n",
    "print(generate_hash(\"$ChatbotDetonarMorasyCosechas!\"))"
   ]
  }
 ],
 "metadata": {
  "kernelspec": {
   "display_name": "Python 3",
   "language": "python",
   "name": "python3"
  },
  "language_info": {
   "codemirror_mode": {
    "name": "ipython",
    "version": 3
   },
   "file_extension": ".py",
   "mimetype": "text/x-python",
   "name": "python",
   "nbconvert_exporter": "python",
   "pygments_lexer": "ipython3",
   "version": "3.9.7"
  }
 },
 "nbformat": 4,
 "nbformat_minor": 2
}
